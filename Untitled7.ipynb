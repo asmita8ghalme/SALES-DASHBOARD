{
  "nbformat": 4,
  "nbformat_minor": 0,
  "metadata": {
    "colab": {
      "provenance": [],
      "authorship_tag": "ABX9TyNBqqx04xqsrPdRzW7ph5vK",
      "include_colab_link": true
    },
    "kernelspec": {
      "name": "python3",
      "display_name": "Python 3"
    },
    "language_info": {
      "name": "python"
    }
  },
  "cells": [
    {
      "cell_type": "markdown",
      "metadata": {
        "id": "view-in-github",
        "colab_type": "text"
      },
      "source": [
        "<a href=\"https://colab.research.google.com/github/asmita8ghalme/SALES-DASHBOARD/blob/main/Untitled7.ipynb\" target=\"_parent\"><img src=\"https://colab.research.google.com/assets/colab-badge.svg\" alt=\"Open In Colab\"/></a>"
      ]
    },
    {
      "cell_type": "code",
      "execution_count": null,
      "metadata": {
        "id": "N6Zm8Gm4VDJn"
      },
      "outputs": [],
      "source": []
    },
    {
      "cell_type": "markdown",
      "source": [
        "lecture 2\n"
      ],
      "metadata": {
        "id": "q63Y45_maITi"
      }
    },
    {
      "cell_type": "markdown",
      "source": [
        "**Python programming**"
      ],
      "metadata": {
        "id": "wqX63VufaPrH"
      }
    },
    {
      "cell_type": "markdown",
      "source": [
        "Arithmetic"
      ],
      "metadata": {
        "id": "RextxGYmaZBu"
      }
    },
    {
      "cell_type": "markdown",
      "source": [],
      "metadata": {
        "id": "5Di-Iq6YafOQ"
      }
    },
    {
      "cell_type": "code",
      "source": [
        "a=5\n",
        "b=6\n",
        "c=a+b\n",
        "print(c)"
      ],
      "metadata": {
        "colab": {
          "base_uri": "https://localhost:8080/"
        },
        "id": "n5lTwPCOagkQ",
        "outputId": "9f9627ba-23a2-4573-fdb5-e2b4ccb4263d"
      },
      "execution_count": 3,
      "outputs": [
        {
          "output_type": "stream",
          "name": "stdout",
          "text": [
            "11\n"
          ]
        }
      ]
    },
    {
      "cell_type": "code",
      "source": [
        "d=a*b\n",
        "print(d)"
      ],
      "metadata": {
        "colab": {
          "base_uri": "https://localhost:8080/"
        },
        "id": "dxARsBVubF9J",
        "outputId": "83e6da3a-0b61-4dca-b229-1b741019171c"
      },
      "execution_count": 4,
      "outputs": [
        {
          "output_type": "stream",
          "name": "stdout",
          "text": [
            "30\n"
          ]
        }
      ]
    },
    {
      "cell_type": "markdown",
      "source": [
        "Simple Arithmatic - Get input from user(+ - * %)"
      ],
      "metadata": {
        "id": "7kFt6FvfdimW"
      }
    },
    {
      "cell_type": "markdown",
      "source": [
        "a = int(input(\"Enter the value of a: \"))\n",
        "b = int(input(\"Enter the value of b: \"))\n",
        "add=a+b\n",
        "sub=a-b\n",
        "mult=a*b\n",
        "div=a/b\n",
        "mod=a%b\n",
        "print(\"Sum: {0}, Diff: {1}, Mult: {2}, Div: {3}, Mod: {4}\".format(add,sub,mult,div,mod))\n",
        "print(\"Sum: %d, Diff: %d, Mult: %d, Div:%25.3f, Mod:%d\"%(add,sub,mult,div,mod))"
      ],
      "metadata": {
        "id": "DZHbYB4WeBW3"
      }
    },
    {
      "cell_type": "code",
      "source": [
        "a = int(input(\"Enter the value of a: \"))\n",
        "b = int(input(\"Enter the value of b: \"))\n",
        "add=a+b\n",
        "sub=a-b\n",
        "mult=a*b\n",
        "div=a/b\n",
        "mod=a%b\n",
        "print(\"Sum: {0}, Diff: {1}, Mult: {2}, Div: {3}, Mod: {4}\".format(add,sub,mult,div,mod))# PRINT FORMAT\n",
        "print(\"Sum: %d, Diff: %d, Mult: %d, Div:%25.3f, Mod:%d\"%(add,sub,mult,div,mod))#PRINT USING PADDING & PRECISION"
      ],
      "metadata": {
        "colab": {
          "base_uri": "https://localhost:8080/"
        },
        "id": "D4WjtQVphL30",
        "outputId": "7350a6cb-1134-45a6-d9c7-84d3d8aa27a1"
      },
      "execution_count": 5,
      "outputs": [
        {
          "output_type": "stream",
          "name": "stdout",
          "text": [
            "Enter the value of a: 42\n",
            "Enter the value of b: 25\n",
            "Sum: 67, Diff: 17, Mult: 1050, Div: 1.68, Mod: 17\n",
            "Sum: 67, Diff: 17, Mult: 1050, Div:                    1.680, Mod:17\n"
          ]
        }
      ]
    },
    {
      "cell_type": "code",
      "source": [
        "print('{0:<4} | {1:<4} | {2:<4} | {3:>4}'.format('Add','Sub','Mult','Div'))\n",
        "print('{0:<4} | {1:<4} | {2:<4} | {3:>4}'.format(add,sub,mult,div))"
      ],
      "metadata": {
        "colab": {
          "base_uri": "https://localhost:8080/"
        },
        "id": "YM47B14mjhGl",
        "outputId": "e37a511f-f9eb-49c5-ea9f-5a0c08be6a2c"
      },
      "execution_count": 8,
      "outputs": [
        {
          "output_type": "stream",
          "name": "stdout",
          "text": [
            "Add  | Sub  | Mult |  Div\n",
            "67   | 17   | 1050 | 1.68\n"
          ]
        }
      ]
    },
    {
      "cell_type": "markdown",
      "source": [
        "simple Aruthmatic- Get input user power\n"
      ],
      "metadata": {
        "id": "hDx7u9fcxyf0"
      }
    },
    {
      "cell_type": "markdown",
      "source": [],
      "metadata": {
        "id": "G3VgRVNfyCia"
      }
    },
    {
      "cell_type": "code",
      "source": [
        "a=2\n",
        "b=3\n",
        "power=a**b#power\n",
        "print(power)"
      ],
      "metadata": {
        "colab": {
          "base_uri": "https://localhost:8080/"
        },
        "id": "WLHAZSqxyDqY",
        "outputId": "815261c8-4fb6-456d-8d17-5e2d0e8844f2"
      },
      "execution_count": 9,
      "outputs": [
        {
          "output_type": "stream",
          "name": "stdout",
          "text": [
            "8\n"
          ]
        }
      ]
    },
    {
      "cell_type": "markdown",
      "source": [
        "**2.String**"
      ],
      "metadata": {
        "id": "oGzSAOWsyjG6"
      }
    },
    {
      "cell_type": "markdown",
      "source": [
        "creating a string\n"
      ],
      "metadata": {
        "id": "7V6kIoF1y0r-"
      }
    },
    {
      "cell_type": "code",
      "source": [
        "a = 'python'\n",
        "b = 'bootcamp'\n",
        "print(a)\n",
        "print(b)"
      ],
      "metadata": {
        "colab": {
          "base_uri": "https://localhost:8080/"
        },
        "id": "ozO5WBdtyugn",
        "outputId": "b0962c98-be41-4d90-bd58-90b2a7c25f1d"
      },
      "execution_count": 10,
      "outputs": [
        {
          "output_type": "stream",
          "name": "stdout",
          "text": [
            "python\n",
            "bootcamp\n"
          ]
        }
      ]
    },
    {
      "cell_type": "code",
      "source": [
        "a = 'python'\n",
        "b = 'bootcamp'\n",
        "print(a+b)"
      ],
      "metadata": {
        "colab": {
          "base_uri": "https://localhost:8080/"
        },
        "id": "kJrPxBZgzZEh",
        "outputId": "e5588fab-78a9-4f92-f438-e00c9c162727"
      },
      "execution_count": 11,
      "outputs": [
        {
          "output_type": "stream",
          "name": "stdout",
          "text": [
            "pythonbootcamp\n"
          ]
        }
      ]
    },
    {
      "cell_type": "code",
      "source": [
        "a=\"asmita\"\n",
        "print(len(a))\n"
      ],
      "metadata": {
        "colab": {
          "base_uri": "https://localhost:8080/"
        },
        "id": "uRr72YsU0QiJ",
        "outputId": "7e4da3d4-404c-45e2-ec73-669d4b81fb7e"
      },
      "execution_count": 12,
      "outputs": [
        {
          "output_type": "stream",
          "name": "stdout",
          "text": [
            "6\n"
          ]
        }
      ]
    },
    {
      "cell_type": "markdown",
      "source": [],
      "metadata": {
        "id": "GehuNMvP0kDv"
      }
    },
    {
      "cell_type": "code",
      "source": [
        "a=\"A\"\n",
        "b=a*5\n",
        "print(b)"
      ],
      "metadata": {
        "colab": {
          "base_uri": "https://localhost:8080/"
        },
        "id": "9k0eutX50lXZ",
        "outputId": "3ad34cf1-dc40-4f94-ca81-25a028fa5b2f"
      },
      "execution_count": 14,
      "outputs": [
        {
          "output_type": "stream",
          "name": "stdout",
          "text": [
            "AAAAA\n"
          ]
        }
      ]
    },
    {
      "cell_type": "markdown",
      "source": [
        "String index"
      ],
      "metadata": {
        "id": "dLobuhDf13F9"
      }
    },
    {
      "cell_type": "code",
      "source": [
        "a=\"Champ\"\n",
        "print(a[3])#identifing the element based on index\n",
        "print(a[2:])#Grab the remaning elements except upto the index\n",
        "print(a[:2])#Grab the elements upto the index\n",
        "print(a[-1])#Grab the last element\n",
        "print(a[:-1])#Grab the elements except last element\n",
        "print(a[::2])#Grab everything with 2 steps\n",
        "print(a[::-1])#print string backwards\n"
      ],
      "metadata": {
        "colab": {
          "base_uri": "https://localhost:8080/"
        },
        "id": "RRYuF-tu18Jg",
        "outputId": "6e2eca37-ba1c-47ea-e0b7-cbb28d41364c"
      },
      "execution_count": 15,
      "outputs": [
        {
          "output_type": "stream",
          "name": "stdout",
          "text": [
            "m\n",
            "amp\n",
            "Ch\n",
            "p\n",
            "Cham\n",
            "Cap\n",
            "pmahC\n"
          ]
        }
      ]
    },
    {
      "cell_type": "markdown",
      "source": [
        "String Functions"
      ],
      "metadata": {
        "id": "dAskGncX4S4N"
      }
    },
    {
      "cell_type": "code",
      "source": [
        "a=\"Master Class\"\n",
        "print(a.upper())#changing upper case letters\n",
        "print(a.lower())#changing lowerb= a.split() case"
      ],
      "metadata": {
        "colab": {
          "base_uri": "https://localhost:8080/"
        },
        "id": "t4eySEBn4W2n",
        "outputId": "3b456cff-18da-4e34-d39b-86bcfbf7ce48"
      },
      "execution_count": 16,
      "outputs": [
        {
          "output_type": "stream",
          "name": "stdout",
          "text": [
            "MASTER CLASS\n",
            "master class\n"
          ]
        }
      ]
    },
    {
      "cell_type": "code",
      "source": [
        "b= a.split() #spliting string\n",
        "print(b)\n",
        "print(b[1])#printing the spliting string based on the index"
      ],
      "metadata": {
        "colab": {
          "base_uri": "https://localhost:8080/"
        },
        "id": "Y6kxFzc55U58",
        "outputId": "2fe888fa-0fd6-4178-c05a-900ea02f711c"
      },
      "execution_count": 18,
      "outputs": [
        {
          "output_type": "stream",
          "name": "stdout",
          "text": [
            "['Master', 'Class']\n",
            "Class\n"
          ]
        }
      ]
    },
    {
      "cell_type": "code",
      "source": [
        "c=\"ElonMusk,StevJobs,BillGates\"\n",
        "d=c.split(\",\")#spliting string based on Delimeter\n",
        "print(d)\n",
        "print(d[1])"
      ],
      "metadata": {
        "colab": {
          "base_uri": "https://localhost:8080/"
        },
        "id": "78wsW52R6QqI",
        "outputId": "66368e23-7017-4780-a510-c0235022c923"
      },
      "execution_count": 19,
      "outputs": [
        {
          "output_type": "stream",
          "name": "stdout",
          "text": [
            "['ElonMusk', 'StevJobs', 'BillGates']\n",
            "StevJobs\n"
          ]
        }
      ]
    },
    {
      "cell_type": "code",
      "source": [
        "a=\"Master class\"\n",
        "print(f\"welcome to python{a}!!\")"
      ],
      "metadata": {
        "colab": {
          "base_uri": "https://localhost:8080/"
        },
        "id": "MZVxfiJs7Pct",
        "outputId": "132dcbed-b2aa-4530-b393-23384debf975"
      },
      "execution_count": 20,
      "outputs": [
        {
          "output_type": "stream",
          "name": "stdout",
          "text": [
            "welcome to pythonMaster class!!\n"
          ]
        }
      ]
    },
    {
      "cell_type": "markdown",
      "source": [
        "3 . List"
      ],
      "metadata": {
        "id": "_-YeoLht7wbd"
      }
    },
    {
      "cell_type": "markdown",
      "source": [
        "create a list"
      ],
      "metadata": {
        "id": "bRg2BXYn75yk"
      }
    },
    {
      "cell_type": "code",
      "source": [
        "a = [1,2,3,4,5]\n",
        "b = [\"camp\",21,99.5]\n",
        "print(a,b)\n",
        "print(len(a))#length of list\n",
        "print(b[0])#Locate the element based on index\n",
        "print(a[1:])#print element expect the first\n",
        "print(a[:2])#print element upto second element\n",
        "print(a+b)#concatenatea 2 list"
      ],
      "metadata": {
        "colab": {
          "base_uri": "https://localhost:8080/"
        },
        "id": "XMffqEPL710N",
        "outputId": "74e11ef4-f578-4c4e-e9b2-db5fd5d2747f"
      },
      "execution_count": 22,
      "outputs": [
        {
          "output_type": "stream",
          "name": "stdout",
          "text": [
            "[1, 2, 3, 4, 5] ['camp', 21, 99.5]\n",
            "5\n",
            "camp\n",
            "[2, 3, 4, 5]\n",
            "[1, 2]\n",
            "[1, 2, 3, 4, 5, 'camp', 21, 99.5]\n"
          ]
        }
      ]
    },
    {
      "cell_type": "code",
      "source": [
        "a = [1,2,3,4,5]\n",
        "a.append(6)#inserting new elements to the existing list\n",
        "print(a)\n"
      ],
      "metadata": {
        "colab": {
          "base_uri": "https://localhost:8080/"
        },
        "id": "zp0b3J3pA1Ks",
        "outputId": "d7e0e0b0-5c8b-4ca4-d465-8be32a94a54e"
      },
      "execution_count": 23,
      "outputs": [
        {
          "output_type": "stream",
          "name": "stdout",
          "text": [
            "[1, 2, 3, 4, 5, 6]\n"
          ]
        }
      ]
    },
    {
      "cell_type": "code",
      "source": [
        "a = [1,2,3,4,5]\n",
        "a.reverse()#reverse list\n",
        "a"
      ],
      "metadata": {
        "colab": {
          "base_uri": "https://localhost:8080/"
        },
        "id": "j9H0ULhRBaaq",
        "outputId": "0e92de26-a52f-41fd-fe78-12b242794514"
      },
      "execution_count": 24,
      "outputs": [
        {
          "output_type": "execute_result",
          "data": {
            "text/plain": [
              "[5, 4, 3, 2, 1]"
            ]
          },
          "metadata": {},
          "execution_count": 24
        }
      ]
    },
    {
      "cell_type": "code",
      "source": [
        "a=[1,2,2]\n",
        "b=[4,5,6]\n",
        "c=[a,b]#Nested list Matrix\n",
        "print(c)\n",
        "print(c[0])#printing row\n",
        "print(c[0][0])#printing first element"
      ],
      "metadata": {
        "colab": {
          "base_uri": "https://localhost:8080/"
        },
        "id": "3sLysiA6BsXQ",
        "outputId": "e4ad9023-bd54-4062-da93-591b6fe9b8ca"
      },
      "execution_count": 25,
      "outputs": [
        {
          "output_type": "stream",
          "name": "stdout",
          "text": [
            "[[1, 2, 2], [4, 5, 6]]\n",
            "[1, 2, 2]\n",
            "1\n"
          ]
        }
      ]
    },
    {
      "cell_type": "markdown",
      "source": [
        "Dictionaries"
      ],
      "metadata": {
        "id": "1KQStpNBCgXO"
      }
    }
  ]
}